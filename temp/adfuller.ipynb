{
 "cells": [
  {
   "cell_type": "code",
   "execution_count": 4,
   "metadata": {
    "collapsed": true
   },
   "outputs": [],
   "source": [
    "from statsmodels.tsa.stattools import adfuller\n",
    "\n",
    "def ad_test(dataset):\n",
    "    dftest = adfuller(dataset, autolag = 'AIC')\n",
    "    print(\"1. ADF : \",dftest[0])\n",
    "    print(\"2. P-Value : \", dftest[1])\n",
    "    print(\"3. Num Of Lags : \", dftest[2])\n",
    "    print(\"4. Num Of Observations Used For ADF Regression:\",      dftest[3])\n",
    "    print(\"5. Critical Values :\")\n",
    "    for key, val in dftest[4].items():\n",
    "        print(\"\\t\",key, \": \", val)"
   ]
  },
  {
   "cell_type": "code",
   "execution_count": 5,
   "outputs": [],
   "source": [
    "from pandas import read_csv\n",
    "series = read_csv('data/BTC-USD-2000-DAYkuj.csv')"
   ],
   "metadata": {
    "collapsed": false,
    "pycharm": {
     "name": "#%%\n"
    }
   }
  },
  {
   "cell_type": "code",
   "execution_count": 11,
   "outputs": [],
   "source": [
    "# series"
   ],
   "metadata": {
    "collapsed": false,
    "pycharm": {
     "name": "#%%\n"
    }
   }
  },
  {
   "cell_type": "code",
   "execution_count": 25,
   "outputs": [
    {
     "name": "stdout",
     "output_type": "stream",
     "text": [
      "0             1.0\n",
      "1          1001.0\n",
      "2          2001.0\n",
      "3          3001.0\n",
      "4          4001.0\n",
      "          ...    \n",
      "1245    1245001.0\n",
      "1246    1246001.0\n",
      "1247    1247001.0\n",
      "1248    1248001.0\n",
      "1249    1249001.0\n",
      "Length: 1250, dtype: float64\n"
     ]
    }
   ],
   "source": [
    "from pandas import Series\n",
    "stationary_series = []\n",
    "for i in range(1250):\n",
    "    stationary_series.append(1+(i*1e3))\n",
    "stationary_series = Series(stationary_series)\n",
    "print(stationary_series)"
   ],
   "metadata": {
    "collapsed": false,
    "pycharm": {
     "name": "#%%\n"
    }
   }
  },
  {
   "cell_type": "code",
   "execution_count": 16,
   "outputs": [
    {
     "name": "stdout",
     "output_type": "stream",
     "text": [
      "0       1431907200\n",
      "1       1431993600\n",
      "2       1432080000\n",
      "3       1432166400\n",
      "4       1432252800\n",
      "           ...    \n",
      "1996    1604361600\n",
      "1997    1604448000\n",
      "1998    1604534400\n",
      "1999    1604620800\n",
      "2000    1604707200\n",
      "Name: time, Length: 2001, dtype: int64\n"
     ]
    }
   ],
   "source": [
    "print(series['time'])"
   ],
   "metadata": {
    "collapsed": false,
    "pycharm": {
     "name": "#%%\n"
    }
   }
  },
  {
   "cell_type": "code",
   "execution_count": 26,
   "outputs": [
    {
     "name": "stdout",
     "output_type": "stream",
     "text": [
      "1. ADF :  0.4228075382237626\n",
      "2. P-Value :  0.9823281140078005\n",
      "3. Num Of Lags :  6\n",
      "4. Num Of Observations Used For ADF Regression: 1243\n",
      "5. Critical Values :\n",
      "\t 1% :  -3.435621806786881\n",
      "\t 5% :  -2.8638680226791444\n",
      "\t 10% :  -2.5680094689100477\n"
     ]
    }
   ],
   "source": [
    "ad_test(stationary_series)"
   ],
   "metadata": {
    "collapsed": false,
    "pycharm": {
     "name": "#%%\n"
    }
   }
  },
  {
   "cell_type": "code",
   "execution_count": 10,
   "outputs": [
    {
     "name": "stdout",
     "output_type": "stream",
     "text": [
      "1. ADF :  7.709781624938692\n",
      "2. P-Value :  1.0\n",
      "3. Num Of Lags :  17\n",
      "4. Num Of Observations Used For ADF Regression: 1983\n",
      "5. Critical Values :\n",
      "\t 1% :  -3.4336519592295947\n",
      "\t 5% :  -2.862998620943585\n",
      "\t 10% :  -2.567546508593341\n"
     ]
    }
   ],
   "source": [
    "ad_test(series['time'])\n"
   ],
   "metadata": {
    "collapsed": false,
    "pycharm": {
     "name": "#%%\n"
    }
   }
  }
 ],
 "metadata": {
  "kernelspec": {
   "display_name": "Python 3",
   "language": "python",
   "name": "python3"
  },
  "language_info": {
   "codemirror_mode": {
    "name": "ipython",
    "version": 2
   },
   "file_extension": ".py",
   "mimetype": "text/x-python",
   "name": "python",
   "nbconvert_exporter": "python",
   "pygments_lexer": "ipython2",
   "version": "2.7.6"
  }
 },
 "nbformat": 4,
 "nbformat_minor": 0
}