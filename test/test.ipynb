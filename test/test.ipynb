{
 "cells": [
  {
   "cell_type": "code",
   "execution_count": 2,
   "metadata": {
    "collapsed": true
   },
   "outputs": [],
   "source": [
    "import pydot\n",
    "\n",
    "(graph,) = pydot.graph_from_dot_file('../diagram_forecast_klasy_abstrakcyjne.dot')\n",
    "graph.write_png('diagram_forecast_klasy_abstrakcyjne.png')\n"
   ]
  },
  {
   "cell_type": "code",
   "execution_count": 4,
   "outputs": [],
   "source": [
    "import pydot\n",
    "\n",
    "(graph,) = pydot.graph_from_dot_file('packages_crypto.dot')\n",
    "graph.write_png('packages_crypto.png')"
   ],
   "metadata": {
    "collapsed": false,
    "pycharm": {
     "name": "#%%\n"
    }
   }
  },
  {
   "cell_type": "code",
   "execution_count": 5,
   "outputs": [
    {
     "data": {
      "text/plain": "'C:\\\\Users\\\\asdf1234\\\\anaconda3\\\\envs\\\\tgpu;C:\\\\Users\\\\asdf1234\\\\anaconda3\\\\envs\\\\tgpu\\\\Library\\\\mingw-w64\\\\bin;C:\\\\Users\\\\asdf1234\\\\anaconda3\\\\envs\\\\tgpu\\\\Library\\\\usr\\\\bin;C:\\\\Users\\\\asdf1234\\\\anaconda3\\\\envs\\\\tgpu\\\\Library\\\\bin;C:\\\\Users\\\\asdf1234\\\\anaconda3\\\\envs\\\\tgpu\\\\Scripts;C:\\\\Users\\\\asdf1234\\\\anaconda3\\\\envs\\\\tgpu\\\\bin;C:\\\\Users\\\\asdf1234\\\\anaconda3\\\\condabin;C:\\\\Program Files\\\\NVIDIA GPU Computing Toolkit\\\\CUDA\\\\v10.1\\\\bin;C:\\\\Program Files\\\\NVIDIA GPU Computing Toolkit\\\\CUDA\\\\v10.1\\\\libnvvp;C:\\\\Program Files\\\\NVIDIA GPU Computing Toolkit\\\\CUDA\\\\v10.0\\\\bin;C:\\\\Program Files\\\\NVIDIA GPU Computing Toolkit\\\\CUDA\\\\v10.0\\\\libnvvp;C:\\\\Program Files\\\\NVIDIA GPU Computing Toolkit\\\\CUDA\\\\v9.0\\\\bin;C:\\\\Program Files\\\\NVIDIA GPU Computing Toolkit\\\\CUDA\\\\v9.0\\\\libnvvp;C:\\\\Program Files\\\\Python37\\\\Scripts;C:\\\\Program Files\\\\Python37;C:\\\\Program Files (x86)\\\\Common Files\\\\Oracle\\\\Java\\\\javapath;C:\\\\Program Files\\\\Microsoft MPI\\\\Bin;C:\\\\ProgramData\\\\Oracle\\\\Java\\\\javapath;C:\\\\Windows\\\\system32;C:\\\\Windows;C:\\\\Windows\\\\System32\\\\Wbem;C:\\\\Windows\\\\System32\\\\WindowsPowerShell\\\\v1.0;E:\\\\Program Files\\\\AMD\\\\ATI.ACE\\\\Core-Static;C:\\\\Program Files (x86)\\\\AMD\\\\ATI.ACE\\\\Core-Static;C:\\\\Users\\\\asdf1234\\\\.dnx\\\\bin;C:\\\\Program Files\\\\Microsoft DNX\\\\Dnvm;E:\\\\Program Files\\\\Git\\\\cmd;C:\\\\Program Files (x86)\\\\NVIDIA Corporation\\\\PhysX\\\\Common;C:\\\\Program Files (x86)\\\\Microsoft Emulator Manager\\\\1.0;C:\\\\Program Files\\\\dotnet;C:\\\\WINDOWS\\\\system32;C:\\\\WINDOWS;C:\\\\WINDOWS\\\\System32\\\\Wbem;C:\\\\WINDOWS\\\\System32\\\\WindowsPowerShell\\\\v1.0;C:\\\\WINDOWS\\\\System32\\\\OpenSSH;C:\\\\Program Files (x86)\\\\Windows Kits\\\\10\\\\Windows Performance Toolkit;C:\\\\Program Files\\\\NVIDIA Corporation\\\\NVIDIA NvDLISR;C:\\\\ProgramData\\\\chocolatey\\\\bin;C:\\\\Program Files\\\\MiKTeX 2.9\\\\miktex\\\\bin\\\\x64;G:\\\\Program Files\\\\nodejs;C:\\\\Program Files\\\\NVIDIA Corporation\\\\Nsight Compute 2019.1;C:\\\\Program Files\\\\NVIDIA GPU Computing Toolkit\\\\CUDA\\\\v10.1\\\\extras\\\\CUPTI\\\\lib64;C:\\\\Users\\\\asdf1234\\\\anaconda3\\\\envs\\\\tgpu\\\\include\\\\graphviz;C:\\\\Users\\\\asdf1234\\\\anaconda3\\\\envs\\\\tgpu\\\\Lib\\\\site-packages\\\\graphviz;C:\\\\Program Files\\\\MySQL\\\\MySQL Shell 8.0\\\\bin;E:\\\\Program Files\\\\Microsoft VS Code\\\\bin;C:\\\\Program Files (x86)\\\\Graphviz2.38\\\\bin;C:\\\\Users\\\\asdf1234\\\\AppData\\\\Roaming\\\\npm;G:\\\\Program Files\\\\JetBrains\\\\IntelliJ IDEA 2019.3.3\\\\bin;C:\\\\Users\\\\asdf1234\\\\.dotnet\\\\tools;C:\\\\Users\\\\asdf1234\\\\.dotnet\\\\tools;C:\\\\Users\\\\asdf1234\\\\anaconda3\\\\envs\\\\tgpu\\\\include\\\\graphviz;C:\\\\Users\\\\asdf1234\\\\anaconda3\\\\envs\\\\tgpu\\\\Lib\\\\site-packages\\\\pygraphviz-1.5-py3.7.egg-info;C:\\\\Users\\\\asdf1234\\\\anaconda3\\\\envs\\\\tgpu\\\\Lib\\\\site-packages\\\\graphviz;E:\\\\Program Files\\\\Graphviz\\\\bin;E:\\\\Program Files\\\\Graphviz\\\\bin\\\\dot.exe;.'"
     },
     "execution_count": 5,
     "metadata": {},
     "output_type": "execute_result"
    }
   ],
   "source": [
    "import os\n",
    "os.environ['PATH']"
   ],
   "metadata": {
    "collapsed": false,
    "pycharm": {
     "name": "#%%\n"
    }
   }
  },
  {
   "cell_type": "code",
   "execution_count": 20,
   "outputs": [
    {
     "name": "stdout",
     "output_type": "stream",
     "text": [
      "<Element {http://www.w3.org/2000/svg}svg at 0x1cbf7a51088>\n",
      "[<Element {http://www.w3.org/2000/svg}g at 0x1cbf7a51e88>, <Element {http://www.w3.org/2000/svg}g at 0x1cbf92112c8>, <Element {http://www.w3.org/2000/svg}g at 0x1cbf9211d88>, <Element {http://www.w3.org/2000/svg}g at 0x1cbf9211288>, <Element {http://www.w3.org/2000/svg}g at 0x1cbf9211748>, <Element {http://www.w3.org/2000/svg}g at 0x1cbf9211688>, <Element {http://www.w3.org/2000/svg}g at 0x1cbf9211b88>, <Element {http://www.w3.org/2000/svg}g at 0x1cbf7d79788>, <Element {http://www.w3.org/2000/svg}g at 0x1cbf7d79688>, <Element {http://www.w3.org/2000/svg}g at 0x1cbf7d79d08>, <Element {http://www.w3.org/2000/svg}g at 0x1cbf7d79088>, <Element {http://www.w3.org/2000/svg}g at 0x1cbf7a67748>, <Element {http://www.w3.org/2000/svg}g at 0x1cbf7a67248>, <Element {http://www.w3.org/2000/svg}g at 0x1cbf7a67408>, <Element {http://www.w3.org/2000/svg}g at 0x1cbf7e19e08>, <Element {http://www.w3.org/2000/svg}g at 0x1cbf7e19048>, <Element {http://www.w3.org/2000/svg}g at 0x1cbf7e19708>, <Element {http://www.w3.org/2000/svg}g at 0x1cbf917acc8>, <Element {http://www.w3.org/2000/svg}g at 0x1cbf72edbc8>, <Element {http://www.w3.org/2000/svg}g at 0x1cbf72ed5c8>, <Element {http://www.w3.org/2000/svg}g at 0x1cbf72ed088>, <Element {http://www.w3.org/2000/svg}g at 0x1cbf72ed808>, <Element {http://www.w3.org/2000/svg}g at 0x1cbf72ed748>, <Element {http://www.w3.org/2000/svg}g at 0x1cbf7c66b08>, <Element {http://www.w3.org/2000/svg}g at 0x1cbf7e4c808>, <Element {http://www.w3.org/2000/svg}g at 0x1cbf7e4c6c8>, <Element {http://www.w3.org/2000/svg}g at 0x1cbf7e4c788>]\n"
     ]
    }
   ],
   "source": [
    "import lxml.etree as ET\n",
    "\n",
    "svg = ET.parse('classes_dotfile.svg')\n",
    "xml = svg.getroot()\n",
    "print(xml)\n",
    "print(xml.findall(\".//{http://www.w3.org/2000/svg}g\"))"
   ],
   "metadata": {
    "collapsed": false,
    "pycharm": {
     "name": "#%%\n"
    }
   }
  },
  {
   "cell_type": "code",
   "execution_count": 5,
   "outputs": [],
   "source": [
    "from cairosvg import svg2png\n",
    "\n",
    "svg2png(url='../classes_chuj.svg', write_to='ajajajaj.png')\n"
   ],
   "metadata": {
    "collapsed": false,
    "pycharm": {
     "name": "#%%\n"
    }
   }
  }
 ],
 "metadata": {
  "kernelspec": {
   "display_name": "Python 3",
   "language": "python",
   "name": "python3"
  },
  "language_info": {
   "codemirror_mode": {
    "name": "ipython",
    "version": 2
   },
   "file_extension": ".py",
   "mimetype": "text/x-python",
   "name": "python",
   "nbconvert_exporter": "python",
   "pygments_lexer": "ipython2",
   "version": "2.7.6"
  }
 },
 "nbformat": 4,
 "nbformat_minor": 0
}